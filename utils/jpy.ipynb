{
 "cells": [
  {
   "cell_type": "code",
   "execution_count": 54,
   "metadata": {},
   "outputs": [],
   "source": [
    "SPTRANS_KEY = \"2bc28344ead24b3b5fe273ec7389d2e4d14abd2bad45abe6d8d774026193f894\""
   ]
  },
  {
   "cell_type": "code",
   "execution_count": 55,
   "metadata": {},
   "outputs": [],
   "source": [
    "import requests"
   ]
  },
  {
   "cell_type": "code",
   "execution_count": 56,
   "metadata": {},
   "outputs": [],
   "source": [
    "BASE_URL = \"http://api.olhovivo.sptrans.com.br/v2.1\""
   ]
  },
  {
   "cell_type": "code",
   "execution_count": 81,
   "metadata": {},
   "outputs": [
    {
     "name": "stdout",
     "output_type": "stream",
     "text": [
      "<Response [200]>\n",
      "{'User-Agent': 'python-requests/2.31.0', 'Accept-Encoding': 'gzip, deflate', 'Accept': '*/*', 'Connection': 'keep-alive', 'Content-Length': '0'}\n"
     ]
    },
    {
     "data": {
      "text/plain": [
       "[{'cl': 798,\n",
       "  'lc': False,\n",
       "  'lt': '8010',\n",
       "  'sl': 1,\n",
       "  'tl': 10,\n",
       "  'tp': 'LAPA',\n",
       "  'ts': 'PERUS'},\n",
       " {'cl': 33566,\n",
       "  'lc': False,\n",
       "  'lt': '8010',\n",
       "  'sl': 2,\n",
       "  'tl': 10,\n",
       "  'tp': 'LAPA',\n",
       "  'ts': 'PERUS'},\n",
       " {'cl': 1737,\n",
       "  'lc': True,\n",
       "  'lt': '8010',\n",
       "  'sl': 1,\n",
       "  'tl': 21,\n",
       "  'tp': 'SÍTIO BOTUQUARA',\n",
       "  'ts': 'CPTM PERUS'},\n",
       " {'cl': 34505,\n",
       "  'lc': True,\n",
       "  'lt': '8010',\n",
       "  'sl': 2,\n",
       "  'tl': 21,\n",
       "  'tp': 'SÍTIO BOTUQUARA',\n",
       "  'ts': 'CPTM PERUS'}]"
      ]
     },
     "execution_count": 81,
     "metadata": {},
     "output_type": "execute_result"
    }
   ],
   "source": [
    "s = requests.session()\n",
    "auth = s.post(f'{BASE_URL}/Login/Autenticar?token={SPTRANS_KEY}', timeout=30)\n",
    "assert auth.text == 'true'\n",
    "print(auth)\n",
    "print(auth.request.headers)\n",
    "s.get(f\"{BASE_URL}/Posicao/Linha?codigoLinha=2023\", verify=False).json()\n",
    "# s.get(f\"{BASE_URL}/Linha/Buscar?termosBusca=8010\", verify=False).json()\n",
    "    "
   ]
  }
 ],
 "metadata": {
  "kernelspec": {
   "display_name": "new0xdoing",
   "language": "python",
   "name": "python3"
  },
  "language_info": {
   "codemirror_mode": {
    "name": "ipython",
    "version": 3
   },
   "file_extension": ".py",
   "mimetype": "text/x-python",
   "name": "python",
   "nbconvert_exporter": "python",
   "pygments_lexer": "ipython3",
   "version": "3.10.12"
  },
  "orig_nbformat": 4
 },
 "nbformat": 4,
 "nbformat_minor": 2
}
